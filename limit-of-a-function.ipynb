{
  "nbformat": 4,
  "nbformat_minor": 0,
  "metadata": {
    "kernelspec": {
      "display_name": "Python 3",
      "language": "python",
      "name": "python3"
    },
    "language_info": {
      "codemirror_mode": {
        "name": "ipython",
        "version": 3
      },
      "file_extension": ".py",
      "mimetype": "text/x-python",
      "name": "python",
      "nbconvert_exporter": "python",
      "pygments_lexer": "ipython3",
      "version": "3.8.5"
    },
    "colab": {
      "name": "Independent Work 1.ipynb",
      "provenance": [],
      "collapsed_sections": []
    }
  },
  "cells": [
    {
      "cell_type": "markdown",
      "metadata": {
        "id": "0_Atujy91t_4"
      },
      "source": [
        "## Limit of a Function"
      ]
    },
    {
      "cell_type": "markdown",
      "metadata": {
        "id": "Ptriph3e1t_7"
      },
      "source": [
        "<p>In this independent work, you are going to analyze one of the indeterminate form \n",
        "$1^ \\infty $ </p>\n",
        "\n",
        "<p>For the simplicity, we will be looking at the limit as $x$ approaches 0 from left; that is, $x \\to 0 ^ {-} $\n"
      ]
    },
    {
      "cell_type": "markdown",
      "metadata": {
        "id": "HDn6Pna51t_9"
      },
      "source": [
        "## Task 1:\n",
        "<p><ul>\n",
        "<li> Find a function $f(x)$ (preferably rational function) such that <br> $\\lim_{x \\to 0^{-}} f(x) = 0$ </li>\n",
        "<li> Show that the limit is 0 (by making a table of values) </li>\n",
        "<li> Draw the graph of the function in the interval $[-3,3]$ </li></ul></p>"
      ]
    },
    {
      "cell_type": "markdown",
      "metadata": {
        "id": "gwDG2Sdmf9AB"
      },
      "source": [
        ""
      ]
    },
    {
      "cell_type": "code",
      "metadata": {
        "colab": {
          "base_uri": "https://localhost:8080/",
          "height": 421
        },
        "id": "PnDdPlW51t_-",
        "outputId": "09aea4df-0c11-4fb9-8197-5b6c329a89a4"
      },
      "source": [
        "import sympy as sym\n",
        "import numpy as np\n",
        "import matplotlib.pyplot as plt\n",
        "%matplotlib inline\n",
        "from sympy.abc import x\n",
        "from sympy import sin\n",
        "f = sym.lambdify (x, 0)\n",
        "a = [-3,-0.1, -0.01, -0.001, 0, 0.001, 0.01, 0.1, 3]\n",
        "y = [f(i) for i in a ]\n",
        "for i in y:\n",
        "  print(i)\n",
        "plt.plot(a, y)\n",
        "plt.show()\n"
      ],
      "execution_count": 11,
      "outputs": [
        {
          "output_type": "stream",
          "name": "stdout",
          "text": [
            "0\n",
            "0\n",
            "0\n",
            "0\n",
            "0\n",
            "0\n",
            "0\n",
            "0\n",
            "0\n"
          ]
        },
        {
          "output_type": "display_data",
          "data": {
            "image/png": "[encoded data removed]",
            "text/plain": [
              "<Figure size 432x288 with 1 Axes>"
            ]
          },
          "metadata": {
            "needs_background": "light"
          }
        }
      ]
    },
    {
      "cell_type": "markdown",
      "metadata": {
        "id": "9QNHQjtu1t__"
      },
      "source": [
        "## Task 2:\n",
        "<p><ul>\n",
        "<li> Find a function $g(x)$ (preferably rational function) such that <br> $\\lim_{x \\to 0^{-}} g(x) = \\infty$ </li>\n",
        "<li> Show that the limit is infinity (by making a table of values) </li>\n",
        "<li> Draw the graph of the function in the interval $[-3,3]$ </li></ul></p>"
      ]
    },
    {
      "cell_type": "code",
      "metadata": {
        "colab": {
          "base_uri": "https://localhost:8080/",
          "height": 439
        },
        "id": "OeQrMSPO1t__",
        "outputId": "d3a1e01d-2858-4523-8e8a-8c6db7e5ae0f"
      },
      "source": [
        "import sympy as sym\n",
        "import numpy as np\n",
        "import matplotlib.pyplot as plt\n",
        "%matplotlib inline\n",
        "from sympy.abc import x\n",
        "from sympy import sin\n",
        "values = np.array([-0.1, -0.01, -0.001, 0, 0.001, 0.01, 0.1])\n",
        "f = sym.lambdify (x, 1/(-x))\n",
        "for value in values:\n",
        "  print(f(value))\n",
        "a = np.linspace(-3,3, 101)\n",
        "plt.plot(a, f(a))"
      ],
      "execution_count": 2,
      "outputs": [
        {
          "output_type": "stream",
          "name": "stdout",
          "text": [
            "10.0\n",
            "100.0\n",
            "1000.0\n",
            "-inf\n",
            "-1000.0\n",
            "-100.0\n",
            "-10.0\n"
          ]
        },
        {
          "output_type": "stream",
          "name": "stderr",
          "text": [
            "<string>:2: RuntimeWarning: divide by zero encountered in double_scalars\n",
            "<string>:2: RuntimeWarning: divide by zero encountered in true_divide\n"
          ]
        },
        {
          "output_type": "execute_result",
          "data": {
            "text/plain": [
              "[<matplotlib.lines.Line2D at 0x7fad739e5310>]"
            ]
          },
          "metadata": {},
          "execution_count": 2
        },
        {
          "output_type": "display_data",
          "data": {
            "image/png": "[encoded data removed]",
            "text/plain": [
              "<Figure size 432x288 with 1 Axes>"
            ]
          },
          "metadata": {
            "needs_background": "light"
          }
        }
      ]
    },
    {
      "cell_type": "markdown",
      "metadata": {
        "id": "GXZE5f6nNPfu"
      },
      "source": [
        ""
      ]
    },
    {
      "cell_type": "markdown",
      "metadata": {
        "id": "iphlQQOD1uAA"
      },
      "source": [
        "## Task 3:\n",
        "<p>Now evaluate the limit (by making table of values and drawing the graph)<br> $\\lim_{x \\to 0^{-}} {(1+f(x))}^{g(x)}$</p>"
      ]
    },
    {
      "cell_type": "code",
      "metadata": {
        "colab": {
          "base_uri": "https://localhost:8080/",
          "height": 369
        },
        "id": "0sfWvxao1uAA",
        "outputId": "1eaea6dc-8319-4c25-ffc8-3990d6824631"
      },
      "source": [
        "import sympy as sym\n",
        "import numpy as np\n",
        "import matplotlib.pyplot as plt\n",
        "%matplotlib inline\n",
        "from sympy.abc import x\n",
        "from sympy import sin\n",
        "f = sym.lambdify (x, (1)**1/(-x) )\n",
        "a = [-0.1, -0.01, -0.001, 0.001, 0.01, 0.1]\n",
        "y = [f(i) for i in a ]\n",
        "for i in y:\n",
        "  print(i)\n",
        "plt.plot(a, y)\n",
        "plt.show()\n",
        "\n"
      ],
      "execution_count": 21,
      "outputs": [
        {
          "output_type": "stream",
          "name": "stdout",
          "text": [
            "10.0\n",
            "100.0\n",
            "1000.0\n",
            "-1000.0\n",
            "-100.0\n",
            "-10.0\n"
          ]
        },
        {
          "output_type": "display_data",
          "data": {
            "image/png": "[encoded data removed]",
            "text/plain": [
              "<Figure size 432x288 with 1 Axes>"
            ]
          },
          "metadata": {
            "needs_background": "light"
          }
        }
      ]
    },
    {
      "cell_type": "markdown",
      "metadata": {
        "id": "0vB_SaRo1uAA"
      },
      "source": [
        "## Task 4:\n",
        "<p>Evaluate the following expression (by making table of values):<br> $e^{\\lim_{x \\to 0^{-}} {f(x) \\cdot g(x)}}$"
      ]
    },
    {
      "cell_type": "code",
      "metadata": {
        "colab": {
          "base_uri": "https://localhost:8080/",
          "height": 369
        },
        "id": "Z0X03SWA1uAB",
        "outputId": "59afa9c6-3536-4201-d526-6b1f3ee259e7"
      },
      "source": [
        "import sympy as sym\n",
        "import numpy as np\n",
        "import matplotlib.pyplot as plt\n",
        "%matplotlib inline\n",
        "from sympy.abc import x\n",
        "from sympy import sin\n",
        "f = sym.lambdify (x, 2.71**0*1/(-x) )\n",
        "a = [-0.1, -0.01, -0.001, 0.001, 0.01, 0.1]\n",
        "y = [f(i) for i in a ]\n",
        "for i in y:\n",
        "  print(i)\n",
        "plt.plot(a, y)\n",
        "plt.show()\n",
        "\n",
        "\n"
      ],
      "execution_count": 23,
      "outputs": [
        {
          "output_type": "stream",
          "name": "stdout",
          "text": [
            "10.0\n",
            "100.0\n",
            "1000.0\n",
            "-1000.0\n",
            "-100.0\n",
            "-10.0\n"
          ]
        },
        {
          "output_type": "display_data",
          "data": {
            "image/png": "[encoded data removed]",
            "text/plain": [
              "<Figure size 432x288 with 1 Axes>"
            ]
          },
          "metadata": {
            "needs_background": "light"
          }
        }
      ]
    },
    {
      "cell_type": "markdown",
      "metadata": {
        "id": "fSk3vPYI1uAB"
      },
      "source": [
        "## Task 5\n",
        "<p> What do you think? Are these two expressions in Task3 and Task 4 equal? Explain briefly.</p>"
      ]
    },
    {
      "cell_type": "markdown",
      "metadata": {
        "id": "sdIee7zW1uAC"
      },
      "source": [
        "Yes they are equal. Fistly, I think this is because of the formulas. The first formula demonstrates that one to the power any number is one resulting also in one. Similarly, in the second formula any number that is multiplied by zero results zero and any number to the power of zero is one. This way the two expressions are equal to each other 1=1. \n",
        "\n",
        "Secondly, this equality can be assumed as the two formula <br> $\\lim_{x \\to 0^{-}} {(1+f(x))}^{g(x)}$</p> \n",
        "\n",
        "and \n",
        "<br> $e^{\\lim_{x \\to 0^{-}} {f(x) \\cdot g(x)}}$</p> are inverse to each other. This deduction revealed as I have checked the result of a limits for $f(x) = x^3$. The limit of this function as approaches $x$ was zero and the result of its inverse function f(x) = <span>&#8731;</span>x was also zero. This can be inferred that the limit of function and its inverse are equal.\n",
        "\n",
        "\n",
        "\n"
      ]
    },
    {
      "cell_type": "markdown",
      "metadata": {
        "id": "yVCfSWH61uAC"
      },
      "source": [
        "## Task 6\n",
        "<p> Use <b>sympy</b> library's built in function to calculate the limits to check your solutions.<br><a href=https://www.sympy.org/en/index.html>Click to read the documentation.</a></p>"
      ]
    },
    {
      "cell_type": "code",
      "metadata": {
        "colab": {
          "base_uri": "https://localhost:8080/"
        },
        "id": "N7u-nfMu1uAC",
        "outputId": "16d35701-b6e5-4c39-bb2c-48f0b3fe9b5d"
      },
      "source": [
        "\n",
        "from sympy.abc import x\n",
        "from sympy import limit\n",
        "from sympy import sin, cos\n",
        "func = input(\"Enter your function:\")   \n",
        "print(\"Your function is:\",(func))\n",
        "limit_func = limit(func, x, 0) \n",
        "print(\"Limit of your function as it approaches 0 is :\", limit_func) "
      ],
      "execution_count": 10,
      "outputs": [
        {
          "output_type": "stream",
          "name": "stdout",
          "text": [
            "Enter your function:x**2\n",
            "Your function is: x**2\n",
            "Limit of your function as it approaches 0 is : 0\n"
          ]
        }
      ]
    }
  ]
}